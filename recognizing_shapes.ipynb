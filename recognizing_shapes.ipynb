{
 "cells": [
  {
   "cell_type": "markdown",
   "metadata": {},
   "source": [
    "Recognizing Shapes in Objects with OpenCV\n",
    "=========================================\n"
   ]
  },
  {
   "cell_type": "markdown",
   "metadata": {},
   "source": [
    "Import libraries."
   ]
  },
  {
   "cell_type": "code",
   "execution_count": 30,
   "metadata": {},
   "outputs": [],
   "source": [
    "import cv2\n",
    "import numpy as np\n",
    "import os"
   ]
  },
  {
   "cell_type": "markdown",
   "metadata": {},
   "source": [
    "Image filenames."
   ]
  },
  {
   "cell_type": "code",
   "execution_count": 2,
   "metadata": {},
   "outputs": [],
   "source": [
    "files = (\n",
    "    'subway.jpg',\n",
    "    'breakfast.jpg',\n",
    "    'dinner.jpg',\n",
    "    'building.jpg',\n",
    ")\n",
    "f = os.path.join('./images', files[0])"
   ]
  },
  {
   "cell_type": "markdown",
   "metadata": {},
   "source": [
    "Define a function for viewing images."
   ]
  },
  {
   "cell_type": "code",
   "execution_count": 12,
   "metadata": {},
   "outputs": [],
   "source": [
    "def view_image(i):\n",
    "    cv2.imshow('view',i)\n",
    "    cv2.waitKey(1000)\n",
    "    cv2.destroyAllWindows()"
   ]
  },
  {
   "cell_type": "markdown",
   "metadata": {},
   "source": [
    "Read an image from file."
   ]
  },
  {
   "cell_type": "code",
   "execution_count": 32,
   "metadata": {},
   "outputs": [],
   "source": [
    "i = cv2.imread(f)\n",
    "view_image(i)"
   ]
  },
  {
   "cell_type": "markdown",
   "metadata": {},
   "source": [
    "Inspect image contents"
   ]
  },
  {
   "cell_type": "code",
   "execution_count": 5,
   "metadata": {},
   "outputs": [
    {
     "name": "stdout",
     "output_type": "stream",
     "text": [
      "(640, 427, 3)\n",
      "[22 24  4]\n"
     ]
    }
   ],
   "source": [
    "print(i.shape)\n",
    "print(i[0,0,:])"
   ]
  },
  {
   "cell_type": "markdown",
   "metadata": {},
   "source": [
    "Gray-scale"
   ]
  },
  {
   "cell_type": "code",
   "execution_count": 6,
   "metadata": {},
   "outputs": [
    {
     "name": "stdout",
     "output_type": "stream",
     "text": [
      "(640, 427)\n",
      "18\n"
     ]
    }
   ],
   "source": [
    "i_gray = cv2.cvtColor(i,cv2.COLOR_BGR2GRAY)\n",
    "print(i_gray.shape)\n",
    "print(i_gray[0,0])\n",
    "view_image(i_gray)"
   ]
  },
  {
   "cell_type": "markdown",
   "metadata": {},
   "source": [
    "X gradient"
   ]
  },
  {
   "cell_type": "code",
   "execution_count": 7,
   "metadata": {},
   "outputs": [],
   "source": [
    "sobelx = cv2.Sobel(i_gray , cv2.CV_64F ,1 , 0)\n",
    "abs_sobel = np.absolute(sobelx)\n",
    "view_image(abs_sobel/np.max(abs_sobel))"
   ]
  },
  {
   "cell_type": "markdown",
   "metadata": {},
   "source": [
    "Y gradient"
   ]
  },
  {
   "cell_type": "code",
   "execution_count": 8,
   "metadata": {},
   "outputs": [],
   "source": [
    "sobely = cv2.Sobel(i_gray , cv2.CV_64F ,0 ,1)\n",
    "abs_sobely = np.absolute(sobely)\n",
    "view_image(abs_sobely/np.max(abs_sobely))"
   ]
  },
  {
   "cell_type": "markdown",
   "metadata": {},
   "source": [
    "Magnitude of gradient vector"
   ]
  },
  {
   "cell_type": "code",
   "execution_count": 9,
   "metadata": {},
   "outputs": [],
   "source": [
    "magnitude = np.sqrt(sobelx**2 + sobely**2)\n",
    "view_image(magnitude/np.max(magnitude))"
   ]
  },
  {
   "cell_type": "markdown",
   "metadata": {},
   "source": [
    "Canny edge detection"
   ]
  },
  {
   "cell_type": "code",
   "execution_count": 17,
   "metadata": {},
   "outputs": [],
   "source": [
    "edges = cv2.Canny(i_gray,200,250)\n",
    "view_image(edges)"
   ]
  },
  {
   "cell_type": "markdown",
   "metadata": {},
   "source": [
    "Theory: Hough transforms\n",
    "\n",
    "![title](images2/line_diagram.png)\n",
    "\n",
    "![title](images2/accumulator1.png)\n",
    "\n",
    "![title](images2/edge_pixel.png)\n",
    "\n",
    "![title](images2/accumulator2.png)\n",
    "\n",
    "![title](images2/accumulator3.png)\n"
   ]
  },
  {
   "cell_type": "markdown",
   "metadata": {},
   "source": [
    "Hough transform for lines"
   ]
  },
  {
   "cell_type": "markdown",
   "metadata": {},
   "source": [
    " ### with the arguments:\n",
    " 1.dst: Output of the edge detector. It should be a grayscale image (although in fact it is a binary one)\n",
    " 2.lines: A vector that will store the parameters (xstart,ystart,xend,yend) of the detected lines\n",
    " 3.rho : The resolution of the parameter r in pixels. We use 1 pixel.\n",
    " 4.theta: The resolution of the parameter θ in radians. We use 1 degree (CV_PI/180)\n",
    " 5.threshold: The minimum number of intersections to \"*detect*\" a line\n",
    " 6.minLineLength: The minimum number of points that can form a line. Lines with less than this number of points are disregarded.\n",
    " 7.maxLineGap: The maximum gap between two points to be considered in the same line. "
   ]
  },
  {
   "cell_type": "code",
   "execution_count": 25,
   "metadata": {},
   "outputs": [],
   "source": [
    "line = cv2.HoughLinesP(\n",
    "    edges,\n",
    "    rho=1,\n",
    "    theta=1.* np.pi/180.0,\n",
    "    threshold=30,\n",
    "    minLineLength = 25,\n",
    "    maxLineGap=6,\n",
    "    )\n",
    "\n",
    "i_lines = i.copy()\n",
    "for l in line:\n",
    "    x1,y1,x2,y2 = l[0]\n",
    "    cv2.line(i_lines,(x1,y1),(x2,y2),(0,0,255),thickness=3)\n",
    "view_image(i_lines)"
   ]
  },
  {
   "cell_type": "markdown",
   "metadata": {},
   "source": [
    "Hough transform for circles"
   ]
  },
  {
   "cell_type": "code",
   "execution_count": 39,
   "metadata": {},
   "outputs": [],
   "source": [
    "circles = cv2.HoughCircles(\n",
    "    i_gray,\n",
    "    method=cv2.HOUGH_GRADIENT,\n",
    "    dp = 2,\n",
    "    minDist = 35,\n",
    "    param1 = 150,\n",
    "    param2 = 40,\n",
    "    minRadius = 15,\n",
    "    maxRadius = 25\n",
    ")\n",
    "i_circles = i.copy()\n",
    "# print(circles[0])\n",
    "for x,y,r in circles[0]:\n",
    "#     print(x,y)\n",
    "    cv2.circle(\n",
    "        i_circles,\n",
    "        (int(x),int(y)),\n",
    "        int(r),\n",
    "        (0,0,255),\n",
    "        thickness=3\n",
    "    )\n",
    "view_image(i_circles)"
   ]
  },
  {
   "cell_type": "markdown",
   "metadata": {},
   "source": [
    "Blur the image first"
   ]
  },
  {
   "cell_type": "code",
   "execution_count": 40,
   "metadata": {},
   "outputs": [],
   "source": [
    "i_blurred = cv2.GaussianBlur(\n",
    "    i_gray,\n",
    "    ksize = (21,21),\n",
    "    sigmaX=0,\n",
    ")\n",
    "view_image(i_blurred)"
   ]
  },
  {
   "cell_type": "markdown",
   "metadata": {},
   "source": [
    "Circle detection on blurred image"
   ]
  },
  {
   "cell_type": "code",
   "execution_count": 41,
   "metadata": {},
   "outputs": [],
   "source": [
    "circles = cv2.HoughCircles(\n",
    "    i_blurred,\n",
    "    method=cv2.HOUGH_GRADIENT,\n",
    "    dp = 2,\n",
    "    minDist = 35,\n",
    "    param1 = 150,\n",
    "    param2 = 40,\n",
    "    minRadius = 15,\n",
    "    maxRadius = 25\n",
    ")\n",
    "i_circles = i.copy()\n",
    "# print(circles[0])\n",
    "for x,y,r in circles[0]:\n",
    "#     print(x,y)\n",
    "    cv2.circle(\n",
    "        i_circles,\n",
    "        (int(x),int(y)),\n",
    "        int(r),\n",
    "        (0,0,255),\n",
    "        thickness=3\n",
    "    )\n",
    "view_image(i_circles)"
   ]
  }
 ],
 "metadata": {
  "kernelspec": {
   "display_name": "Python 3 (ipykernel)",
   "language": "python",
   "name": "python3"
  },
  "language_info": {
   "codemirror_mode": {
    "name": "ipython",
    "version": 3
   },
   "file_extension": ".py",
   "mimetype": "text/x-python",
   "name": "python",
   "nbconvert_exporter": "python",
   "pygments_lexer": "ipython3",
   "version": "3.10.2"
  }
 },
 "nbformat": 4,
 "nbformat_minor": 4
}
